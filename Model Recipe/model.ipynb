{
 "cells": [
  {
   "cell_type": "markdown",
   "id": "5844013d",
   "metadata": {},
   "source": [
    "# Classification of gestures "
   ]
  },
  {
   "cell_type": "markdown",
   "id": "3f34c595",
   "metadata": {},
   "source": [
    "### Imports "
   ]
  },
  {
   "cell_type": "code",
   "execution_count": null,
   "id": "d297cfcf3bdf73f1",
   "metadata": {
    "ExecuteTime": {
     "end_time": "2023-08-26T11:00:31.706072900Z",
     "start_time": "2023-08-26T11:00:31.683867100Z"
    },
    "collapsed": false
   },
   "outputs": [],
   "source": [
    "import torch\n",
    "import numpy as np\n",
    "from torch import nn\n",
    "from torch.utils.data import DataLoader,Dataset\n",
    "num_classes = 8  # no. of classes in your model\n",
    "epochs = 1000  # training epochs\n",
    "in_features = 63  # in_channels to the model \n",
    "device = \"cuda\" if torch.cuda.is_available() else \"cpu\""
   ]
  },
  {
   "cell_type": "markdown",
   "id": "6e24a993",
   "metadata": {},
   "source": [
    "### Making the dataset from csv file"
   ]
  },
  {
   "cell_type": "code",
   "execution_count": null,
   "id": "689cf97c665a2f5c",
   "metadata": {
    "ExecuteTime": {
     "end_time": "2023-08-26T11:00:31.895272Z",
     "start_time": "2023-08-26T11:00:31.881222700Z"
    },
    "collapsed": false
   },
   "outputs": [],
   "source": [
    "class make_dataset(Dataset):\n",
    "  \n",
    "    def __init__(self):\n",
    "        super().__init__()\n",
    "        data1 = np.loadtxt('csv/file/path.csv', delimiter=',',\n",
    "                           dtype=np.float32)\n",
    "        self.x = torch.from_numpy(data1[:, 1:])\n",
    "        self.y = torch.from_numpy(data1[:, [0]]).type(torch.LongTensor)\n",
    "        self.n_samples = data1.shape[0] \n",
    "      \n",
    "    def __getitem__(self, index):\n",
    "        return self.x[index], self.y[index]\n",
    "        \n",
    "    def __len__(self):\n",
    "        return self.n_samples"
   ]
  },
  {
   "cell_type": "code",
   "execution_count": null,
   "id": "a51be736bc62921b",
   "metadata": {
    "ExecuteTime": {
     "end_time": "2023-08-26T11:00:32.343725500Z",
     "start_time": "2023-08-26T11:00:32.058375100Z"
    },
    "collapsed": false
   },
   "outputs": [],
   "source": [
    "data = make_dataset()\n",
    "data[0]"
   ]
  },
  {
   "cell_type": "markdown",
   "id": "e4a914fa",
   "metadata": {},
   "source": [
    "### Making Dataloader from dataset "
   ]
  },
  {
   "cell_type": "code",
   "execution_count": null,
   "id": "4e1d2ba9f4373f19",
   "metadata": {
    "ExecuteTime": {
     "end_time": "2023-08-26T11:00:32.343725500Z",
     "start_time": "2023-08-26T11:00:32.334628100Z"
    },
    "collapsed": false
   },
   "outputs": [],
   "source": [
    "dataloader = DataLoader(data, batch_size=64, shuffle=True)"
   ]
  },
  {
   "cell_type": "markdown",
   "id": "11a4c59b",
   "metadata": {},
   "source": [
    "### Model"
   ]
  },
  {
   "cell_type": "code",
   "execution_count": null,
   "id": "3d8deadf9f4da39f",
   "metadata": {
    "ExecuteTime": {
     "end_time": "2023-08-26T11:00:32.701258400Z",
     "start_time": "2023-08-26T11:00:32.669980600Z"
    },
    "collapsed": false
   },
   "outputs": [],
   "source": [
    "model = nn.Sequential(\n",
    "    nn.Linear(in_features=in_features,out_features=50),\n",
    "    nn.ReLU(),\n",
    "    nn.Dropout(0.3),\n",
    "    nn.Linear(in_features=50,out_features=30),\n",
    "    nn.ReLU(),\n",
    "    nn.Dropout(0.4),\n",
    "    nn.Linear(in_features=30, out_features=20),\n",
    "    nn.ReLU(),\n",
    "    nn.Linear(in_features=20,out_features=num_classes)\n",
    ").to(device)"
   ]
  },
  {
   "cell_type": "code",
   "execution_count": null,
   "id": "e362848ec006d20d",
   "metadata": {
    "ExecuteTime": {
     "end_time": "2023-08-26T11:00:32.834382100Z",
     "start_time": "2023-08-26T11:00:32.818590100Z"
    },
    "collapsed": false
   },
   "outputs": [],
   "source": [
    "from torchinfo import summary\n",
    "\"\"\" To find the status of model uncomment below 4 lines\"\"\"\n",
    "print(summary(model,\n",
    "        input_size=(8192,63),\n",
    "        col_names=['input_size','output_size','num_params','trainable'],\n",
    "        col_width=18))"
   ]
  },
  {
   "cell_type": "markdown",
   "id": "2e104878",
   "metadata": {},
   "source": [
    "### Loss Function and Optimizer"
   ]
  },
  {
   "cell_type": "code",
   "execution_count": null,
   "id": "a0942f12fbe27668",
   "metadata": {
    "ExecuteTime": {
     "end_time": "2023-08-26T11:00:33.517449300Z",
     "start_time": "2023-08-26T11:00:33.485990Z"
    },
    "collapsed": false
   },
   "outputs": [],
   "source": [
    "loss_fn = nn.CrossEntropyLoss()\n",
    "optimizer = torch.optim.Adam(params=model.parameters(),lr = 0.0001)"
   ]
  },
  {
   "cell_type": "markdown",
   "id": "c42b9378",
   "metadata": {},
   "source": [
    "### Training Loop in Pytorch"
   ]
  },
  {
   "cell_type": "code",
   "execution_count": null,
   "id": "5e3fc433d0d45e62",
   "metadata": {
    "ExecuteTime": {
     "end_time": "2023-08-26T11:11:04.706876200Z",
     "start_time": "2023-08-26T11:09:29.828764400Z"
    },
    "collapsed": false
   },
   "outputs": [],
   "source": [
    "for epoch in range(epochs):\n",
    "    acc = 0\n",
    "    for i,(X, y) in enumerate(dataloader):\n",
    "        model.train()\n",
    "        X, y = X.to(device), y.to(device)\n",
    "        logit = model(X)\n",
    "        # print(X)\n",
    "        # acc += (torch.argmax(logit,dim=1)==torch.flatten(y)).sum()/len(y)\n",
    "        loss = loss_fn(logit, torch.flatten(y))\n",
    "        # print(loss)\n",
    "        optimizer.zero_grad()\n",
    "        loss.backward()\n",
    "        optimizer.step()\n",
    "        model.eval()\n",
    "        logit = model(X)\n",
    "        acc += (torch.argmax(logit,dim=1)==torch.flatten(y)).sum()/len(y)\n",
    "    print(acc/len(dataloader))\n",
    "        "
   ]
  },
  {
   "cell_type": "markdown",
   "id": "a4d62f96",
   "metadata": {},
   "source": [
    "### Saving the model in pickle file"
   ]
  },
  {
   "cell_type": "code",
   "execution_count": null,
   "id": "b12b9b10d7bb0e72",
   "metadata": {
    "ExecuteTime": {
     "end_time": "2023-08-26T11:11:25.343185100Z",
     "start_time": "2023-08-26T11:11:24.828269Z"
    },
    "collapsed": false
   },
   "outputs": [],
   "source": [
    "# save the model \n",
    "import pickle\n",
    "pickle.dump(model,open(f\"model_{device}.pk\",\"wb\"))"
   ]
  }
 ],
 "metadata": {
  "kernelspec": {
   "display_name": "Python 3 (ipykernel)",
   "language": "python",
   "name": "python3"
  },
  "language_info": {
   "codemirror_mode": {
    "name": "ipython",
    "version": 3
   },
   "file_extension": ".py",
   "mimetype": "text/x-python",
   "name": "python",
   "nbconvert_exporter": "python",
   "pygments_lexer": "ipython3",
   "version": "3.11.3"
  }
 },
 "nbformat": 4,
 "nbformat_minor": 5
}
